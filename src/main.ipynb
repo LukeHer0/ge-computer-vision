{
 "cells": [
  {
   "cell_type": "markdown",
   "id": "5408eb32",
   "metadata": {},
   "source": [
    "# Ge - Visão Computacional\n",
    "# Alunos: \n",
    "Leila Biggi e Lucas Heron"
   ]
  },
  {
   "cell_type": "markdown",
   "id": "62fd7d5f",
   "metadata": {},
   "source": [
    "## Importações e úteis"
   ]
  },
  {
   "cell_type": "code",
   "execution_count": 1,
   "id": "395cb9ca",
   "metadata": {},
   "outputs": [],
   "source": [
    "import cv2\n",
    "import pandas as pd\n",
    "import os"
   ]
  },
  {
   "cell_type": "code",
   "execution_count": 4,
   "id": "8bb7f038",
   "metadata": {},
   "outputs": [],
   "source": [
    "healthy = '../Test/Healthy/'\n",
    "powdery = '../Test/Powdery/'\n",
    "rust = '../Test/Rust/'\n",
    "\n",
    "\n",
    "healthy_images = [(os.path.join(healthy, f), 0) for f in os.listdir(healthy) if f.endswith('.jpg')]\n",
    "powdery_images = [(os.path.join(powdery, f), 1) for f in os.listdir(powdery) if f.endswith('.jpg')]\n",
    "rust_images = [(os.path.join(rust, f), 2) for f in os.listdir(rust) if f.endswith('.jpg')]\n",
    "\n",
    "all_images = healthy_images + powdery_images + rust_images\n",
    "\n",
    "df = pd.DataFrame(all_images, columns=['image_path', 'label'])\n",
    "\n",
    "df = df.sample(frac=1).reset_index(drop=True)"
   ]
  },
  {
   "cell_type": "code",
   "execution_count": 7,
   "id": "8caae7ee",
   "metadata": {},
   "outputs": [],
   "source": [
    "df.to_csv('../Test/plant_disease.csv', index=False)"
   ]
  }
 ],
 "metadata": {
  "kernelspec": {
   "display_name": "env",
   "language": "python",
   "name": "python3"
  },
  "language_info": {
   "codemirror_mode": {
    "name": "ipython",
    "version": 3
   },
   "file_extension": ".py",
   "mimetype": "text/x-python",
   "name": "python",
   "nbconvert_exporter": "python",
   "pygments_lexer": "ipython3",
   "version": "3.12.3"
  }
 },
 "nbformat": 4,
 "nbformat_minor": 5
}
